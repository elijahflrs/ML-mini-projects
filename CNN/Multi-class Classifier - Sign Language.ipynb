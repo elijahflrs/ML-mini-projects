{
 "cells": [
  {
   "cell_type": "markdown",
   "metadata": {},
   "source": [
    "# Multi-class Classifier\n",
    "This notebook is a demonstration of a multi-class classifer that is used to identify the letters seen in ASL obtained from the MNIST Sign Dataset: https://www.kaggle.com/datamunge/sign-language-mnist/home"
   ]
  },
  {
   "cell_type": "code",
   "execution_count": 4,
   "metadata": {},
   "outputs": [],
   "source": [
    "import csv\n",
    "import numpy as np\n",
    "import tensorflow as tf\n",
    "from os import getcwd\n",
    "from tensorflow.keras.preprocessing.image import ImageDataGenerator"
   ]
  },
  {
   "cell_type": "markdown",
   "metadata": {},
   "source": [
    "## Load and preprocess data"
   ]
  },
  {
   "cell_type": "code",
   "execution_count": 5,
   "metadata": {},
   "outputs": [],
   "source": [
    "# get image pixel data\n",
    "\n",
    "def get_data(filename):\n",
    "    with open(filename) as training_file:\n",
    "        csv_file = csv.reader(training_file, delimiter=',')\n",
    "        labels = []\n",
    "        images = []\n",
    "        \n",
    "        first_row = True\n",
    "        for row in csv_file:\n",
    "            if first_row:\n",
    "                first_row = False # skip first row\n",
    "            else:\n",
    "                labels.append(row[0])\n",
    "                images.append(np.array_split(row[1:785], 28))  # append\n",
    "                \n",
    "        images = np.array(images, dtype=float)\n",
    "        labels = np.array(labels, dtype=float)\n",
    "    return images, labels\n",
    "\n",
    "path_sign_mnist_train = f\"{getcwd()}/data/sign_mnist_train.csv\"\n",
    "path_sign_mnist_test = f\"{getcwd()}/data/sign_mnist_test.csv\"\n",
    "training_images, training_labels = get_data(path_sign_mnist_train)\n",
    "testing_images, testing_labels = get_data(path_sign_mnist_test)"
   ]
  },
  {
   "cell_type": "code",
   "execution_count": 6,
   "metadata": {},
   "outputs": [],
   "source": [
    "# add another dimension to the data\n",
    "\n",
    "training_images = np.expand_dims(training_images, axis=3)\n",
    "testing_images = np.expand_dims(testing_images, axis=3)"
   ]
  },
  {
   "cell_type": "code",
   "execution_count": 7,
   "metadata": {},
   "outputs": [],
   "source": [
    "# image augmentation\n",
    "\n",
    "train_datagen = ImageDataGenerator(\n",
    "    rescale = 1./255,\n",
    "    rotation_range=40,\n",
    "    width_shift_range=0.2,\n",
    "    height_shift_range=0.2,\n",
    "    shear_range=0.2,\n",
    "    zoom_range=0.2,\n",
    "    horizontal_flip=True,\n",
    "    fill_mode='nearest')\n",
    "validation_datagen = ImageDataGenerator(rescale=1./255)"
   ]
  },
  {
   "cell_type": "code",
   "execution_count": 8,
   "metadata": {},
   "outputs": [],
   "source": [
    "# data flow batch size of 32\n",
    "\n",
    "train_gen = train_datagen.flow(\n",
    "    training_images,\n",
    "    training_labels,\n",
    "    batch_size=32)\n",
    "validation_generator = validation_datagen.flow(\n",
    "    testing_images,\n",
    "    testing_labels,\n",
    "    batch_size=32)"
   ]
  },
  {
   "cell_type": "markdown",
   "metadata": {},
   "source": [
    "## Model"
   ]
  },
  {
   "cell_type": "code",
   "execution_count": 9,
   "metadata": {},
   "outputs": [],
   "source": [
    "# define model architecture\n",
    "\n",
    "model = tf.keras.models.Sequential([\n",
    "    tf.keras.layers.Conv2D(64, (3,3), activation='relu', input_shape=(28,28,1)),\n",
    "    tf.keras.layers.MaxPooling2D(2,2),\n",
    "    tf.keras.layers.Conv2D(128, (3,3), activation='relu'),\n",
    "    tf.keras.layers.MaxPooling2D(2,2),\n",
    "    tf.keras.layers.Flatten(),\n",
    "    tf.keras.layers.Dropout(0.5),\n",
    "    tf.keras.layers.Dense(512, activation='relu'),\n",
    "    tf.keras.layers.Dense(26, activation='softmax')\n",
    "])"
   ]
  },
  {
   "cell_type": "code",
   "execution_count": 10,
   "metadata": {},
   "outputs": [],
   "source": [
    "# compile with appropriate loss and optimizer\n",
    "\n",
    "model.compile(\n",
    "    loss='sparse_categorical_crossentropy',\n",
    "    optimizer='rmsprop',\n",
    "    metrics=['accuracy']\n",
    ")"
   ]
  },
  {
   "cell_type": "code",
   "execution_count": 11,
   "metadata": {
    "scrolled": true
   },
   "outputs": [
    {
     "name": "stdout",
     "output_type": "stream",
     "text": [
      "Model: \"sequential\"\n",
      "_________________________________________________________________\n",
      "Layer (type)                 Output Shape              Param #   \n",
      "=================================================================\n",
      "conv2d (Conv2D)              (None, 26, 26, 64)        640       \n",
      "_________________________________________________________________\n",
      "max_pooling2d (MaxPooling2D) (None, 13, 13, 64)        0         \n",
      "_________________________________________________________________\n",
      "conv2d_1 (Conv2D)            (None, 11, 11, 128)       73856     \n",
      "_________________________________________________________________\n",
      "max_pooling2d_1 (MaxPooling2 (None, 5, 5, 128)         0         \n",
      "_________________________________________________________________\n",
      "flatten (Flatten)            (None, 3200)              0         \n",
      "_________________________________________________________________\n",
      "dropout (Dropout)            (None, 3200)              0         \n",
      "_________________________________________________________________\n",
      "dense (Dense)                (None, 512)               1638912   \n",
      "_________________________________________________________________\n",
      "dense_1 (Dense)              (None, 26)                13338     \n",
      "=================================================================\n",
      "Total params: 1,726,746\n",
      "Trainable params: 1,726,746\n",
      "Non-trainable params: 0\n",
      "_________________________________________________________________\n"
     ]
    }
   ],
   "source": [
    "model.summary()"
   ]
  },
  {
   "cell_type": "code",
   "execution_count": 12,
   "metadata": {},
   "outputs": [
    {
     "name": "stdout",
     "output_type": "stream",
     "text": [
      "WARNING:tensorflow:From <ipython-input-12-269f5c999737>:7: Model.fit_generator (from tensorflow.python.keras.engine.training) is deprecated and will be removed in a future version.\n",
      "Instructions for updating:\n",
      "Please use Model.fit, which supports generators.\n",
      "WARNING:tensorflow:sample_weight modes were coerced from\n",
      "  ...\n",
      "    to  \n",
      "  ['...']\n",
      "WARNING:tensorflow:sample_weight modes were coerced from\n",
      "  ...\n",
      "    to  \n",
      "  ['...']\n",
      "Train for 858 steps, validate for 225 steps\n",
      "Epoch 1/15\n",
      "858/858 [==============================] - 21s 25ms/step - loss: 2.5713 - accuracy: 0.2146 - val_loss: 1.4937 - val_accuracy: 0.5223\n",
      "Epoch 2/15\n",
      "858/858 [==============================] - 20s 24ms/step - loss: 1.7943 - accuracy: 0.4274 - val_loss: 0.9647 - val_accuracy: 0.7195\n",
      "Epoch 3/15\n",
      "858/858 [==============================] - 21s 24ms/step - loss: 1.3994 - accuracy: 0.5479 - val_loss: 0.6531 - val_accuracy: 0.7692\n",
      "Epoch 4/15\n",
      "858/858 [==============================] - 21s 24ms/step - loss: 1.1792 - accuracy: 0.6166 - val_loss: 0.5010 - val_accuracy: 0.8434\n",
      "Epoch 5/15\n",
      "858/858 [==============================] - 21s 24ms/step - loss: 1.0299 - accuracy: 0.6643 - val_loss: 0.4285 - val_accuracy: 0.8670\n",
      "Epoch 6/15\n",
      "858/858 [==============================] - 21s 24ms/step - loss: 0.9268 - accuracy: 0.6975 - val_loss: 0.2874 - val_accuracy: 0.9200\n",
      "Epoch 7/15\n",
      "858/858 [==============================] - 20s 24ms/step - loss: 0.8465 - accuracy: 0.7229 - val_loss: 0.3382 - val_accuracy: 0.8836\n",
      "Epoch 8/15\n",
      "858/858 [==============================] - 20s 24ms/step - loss: 0.7935 - accuracy: 0.7399 - val_loss: 0.3491 - val_accuracy: 0.8883\n",
      "Epoch 9/15\n",
      "858/858 [==============================] - 21s 24ms/step - loss: 0.7451 - accuracy: 0.7584 - val_loss: 0.2082 - val_accuracy: 0.9285\n",
      "Epoch 10/15\n",
      "858/858 [==============================] - 21s 24ms/step - loss: 0.6967 - accuracy: 0.7746 - val_loss: 0.2494 - val_accuracy: 0.9020\n",
      "Epoch 11/15\n",
      "858/858 [==============================] - 21s 24ms/step - loss: 0.6815 - accuracy: 0.7780 - val_loss: 0.2391 - val_accuracy: 0.9329\n",
      "Epoch 12/15\n",
      "858/858 [==============================] - 20s 24ms/step - loss: 0.6477 - accuracy: 0.7919 - val_loss: 0.1392 - val_accuracy: 0.9442\n",
      "Epoch 13/15\n",
      "858/858 [==============================] - 21s 24ms/step - loss: 0.6342 - accuracy: 0.7955 - val_loss: 0.2433 - val_accuracy: 0.9170\n",
      "Epoch 14/15\n",
      "858/858 [==============================] - 20s 24ms/step - loss: 0.6279 - accuracy: 0.7976 - val_loss: 0.1526 - val_accuracy: 0.9444\n",
      "Epoch 15/15\n",
      "858/858 [==============================] - 21s 24ms/step - loss: 0.5989 - accuracy: 0.8078 - val_loss: 0.1169 - val_accuracy: 0.9518\n"
     ]
    },
    {
     "data": {
      "text/plain": [
       "[109.81820141717301, 0.7377301]"
      ]
     },
     "execution_count": 12,
     "metadata": {},
     "output_type": "execute_result"
    }
   ],
   "source": [
    "# train model\n",
    "\n",
    "history = model.fit_generator(\n",
    "    train_gen,\n",
    "    epochs=15,\n",
    "    validation_data=validation_generator,\n",
    "    verbose=1\n",
    ")\n",
    "\n",
    "model.evaluate(testing_images, testing_labels, verbose=0)"
   ]
  },
  {
   "cell_type": "markdown",
   "metadata": {},
   "source": [
    "### Results"
   ]
  },
  {
   "cell_type": "code",
   "execution_count": 13,
   "metadata": {},
   "outputs": [
    {
     "data": {
      "image/png": "[encoded data removed]",
      "text/plain": [
       "<Figure size 432x288 with 1 Axes>"
      ]
     },
     "metadata": {
      "needs_background": "light"
     },
     "output_type": "display_data"
    },
    {
     "data": {
      "image/png": "[encoded data removed]",
      "text/plain": [
       "<Figure size 432x288 with 1 Axes>"
      ]
     },
     "metadata": {
      "needs_background": "light"
     },
     "output_type": "display_data"
    }
   ],
   "source": [
    "# plot accuraccy and loss\n",
    "\n",
    "%matplotlib inline\n",
    "import matplotlib.pyplot as plt\n",
    "acc = history.history['accuracy']\n",
    "val_acc = history.history['val_accuracy']\n",
    "loss = history.history['loss']\n",
    "val_loss = history.history['val_loss']\n",
    "\n",
    "epochs = range(len(acc))\n",
    "\n",
    "plt.plot(epochs, acc, 'r', label='Training accuracy')\n",
    "plt.plot(epochs, val_acc, 'b', label='Validation accuracy')\n",
    "plt.title('Training and validation accuracy')\n",
    "plt.legend()\n",
    "plt.figure()\n",
    "\n",
    "plt.plot(epochs, loss, 'r', label='Training Loss')\n",
    "plt.plot(epochs, val_loss, 'b', label='Validation Loss')\n",
    "plt.title('Training and validation loss')\n",
    "plt.legend()\n",
    "\n",
    "plt.show()"
   ]
  }
 ],
 "metadata": {
  "kernelspec": {
   "display_name": "Python 3",
   "language": "python",
   "name": "python3"
  },
  "language_info": {
   "codemirror_mode": {
    "name": "ipython",
    "version": 3
   },
   "file_extension": ".py",
   "mimetype": "text/x-python",
   "name": "python",
   "nbconvert_exporter": "python",
   "pygments_lexer": "ipython3",
   "version": "3.6.8"
  }
 },
 "nbformat": 4,
 "nbformat_minor": 2
}
